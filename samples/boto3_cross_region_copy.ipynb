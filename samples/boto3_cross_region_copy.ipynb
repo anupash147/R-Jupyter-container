{
 "cells": [
  {
   "cell_type": "code",
   "execution_count": 1,
   "metadata": {
    "collapsed": true
   },
   "outputs": [],
   "source": [
    "import boto3"
   ]
  },
  {
   "cell_type": "code",
   "execution_count": 9,
   "metadata": {
    "collapsed": true
   },
   "outputs": [],
   "source": [
    "import os\n",
    "from os.path import basename, dirname\n",
    "def replicate_s3_objects(source, target, keep_structure='False', **kwargs):\n",
    "    \n",
    "    # source processing\n",
    "    _, path = source.split(\":\", 1)\n",
    "    path = path.lstrip(\"/\")\n",
    "    sourcebucket, sourceprefix = path.split(\"/\", 1)\n",
    "    \n",
    "    s3 = boto3.resource('s3',\n",
    "                    aws_access_key_id=kwargs['SOURCE_ACCESS_ID'],\n",
    "                    aws_secret_access_key=kwargs['SOURCE_ACCESS_SECRET']\n",
    "                    )\n",
    "    \n",
    "    fileobj = '/tmp/' +basename(source)\n",
    "    print('Downloading file...',fileobj)\n",
    "    \n",
    "    done = s3.Object(sourcebucket, sourceprefix).download_file(fileobj)\n",
    "        \n",
    "    \n",
    "    # destination processing\n",
    "    _, path = target.rstrip('/').split(\":\", 1)\n",
    "    path = path.lstrip(\"/\")\n",
    "    try:\n",
    "        targetbucket, targetprefix = path.split(\"/\", 1)\n",
    "        if 'True' in keep_structure:\n",
    "            targetprefix = targetprefix + '/' +sourceprefix\n",
    "        else:\n",
    "            targetprefix = targetprefix + '/' +basename(source)\n",
    "    except ValueError:\n",
    "        targetbucket = path.split(\"/\", 1)[0]\n",
    "        if 'True' in keep_structure:\n",
    "            targetprefix = sourceprefix\n",
    "        else:\n",
    "            targetprefix = basename(source)\n",
    "    \n",
    "    \n",
    "    print('Target :',targetbucket,targetprefix)\n",
    "    s3 = boto3.resource('s3',\n",
    "                    aws_access_key_id=kwargs['TARGET_ACCESS_ID'],\n",
    "                    aws_secret_access_key=kwargs['TARGET_ACCESS_SECRET']\n",
    "                    )\n",
    "    \n",
    "    \n",
    "    try:\n",
    "        s3.Object(targetbucket,targetprefix ).upload_file(fileobj,{'ServerSideEncryption': \"AES256\"})\n",
    "        print('Removing the file')\n",
    "        os.remove(fileobj)\n",
    "    except Exception: \n",
    "        raise Exception('Upload failed')    "
   ]
  },
  {
   "cell_type": "code",
   "execution_count": 12,
   "metadata": {},
   "outputs": [
    {
     "name": "stdout",
     "output_type": "stream",
     "text": [
      "('Downloading file...', '/tmp/odtc1_obsmodel_fieldpred.csv')\n",
      "('Target :', 'globalit-np', 'projects/ASPIII/applications/INSEASON/data/test/odtc1_obsmodel_fieldpred.csv')\n",
      "Removing the file\n"
     ]
    }
   ],
   "source": [
    "replicate_s3_objects('s3://xx/odtc1_obsmodel_fieldpred.csv',\n",
    "                     's3://xx2/data/test/',\n",
    "                     'False',**args)"
   ]
  },
  {
   "cell_type": "code",
   "execution_count": null,
   "metadata": {
    "collapsed": true
   },
   "outputs": [],
   "source": []
  }
 ],
 "metadata": {
  "kernelspec": {
   "display_name": "Python 2",
   "language": "python",
   "name": "python2"
  },
  "language_info": {
   "codemirror_mode": {
    "name": "ipython",
    "version": 2
   },
   "file_extension": ".py",
   "mimetype": "text/x-python",
   "name": "python",
   "nbconvert_exporter": "python",
   "pygments_lexer": "ipython2",
   "version": "2.7.11"
  }
 },
 "nbformat": 4,
 "nbformat_minor": 2
}
