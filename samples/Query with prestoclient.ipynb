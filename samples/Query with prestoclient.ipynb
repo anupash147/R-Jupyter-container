{
 "cells": [
  {
   "cell_type": "code",
   "execution_count": 1,
   "metadata": {},
   "outputs": [],
   "source": [
    "import prestoclient"
   ]
  },
  {
   "cell_type": "code",
   "execution_count": 3,
   "metadata": {},
   "outputs": [
    {
     "name": "stdout",
     "output_type": "stream",
     "text": [
      "Help on module prestoclient:\n",
      "\n",
      "NAME\n",
      "    prestoclient\n",
      "\n",
      "FILE\n",
      "    /Users/aash/projects/docker-hive/prestoclient/python/prestoclient.py\n",
      "\n",
      "DESCRIPTION\n",
      "    PrestoClient provides a method to communicate with a Presto server. Presto is a fast query\n",
      "    engine developed by Facebook that runs distributed queries against Hadoop HDFS servers.\n",
      "    \n",
      "    Copyright 2013-2014 Ivo Herweijer | easydatawarehousing.com\n",
      "    \n",
      "    Licensed under the Apache License, Version 2.0 (the \"License\");\n",
      "    you may not use this file except in compliance with the License.\n",
      "    You may obtain a copy of the License at:\n",
      "    \n",
      "    http://www.apache.org/licenses/LICENSE-2.0\n",
      "    \n",
      "    Unless required by applicable law or agreed to in writing, software\n",
      "    distributed under the License is distributed on an \"AS IS\" BASIS,\n",
      "    WITHOUT WARRANTIES OR CONDITIONS OF ANY KIND, either express or implied.\n",
      "    See the License for the specific language governing permissions and\n",
      "    limitations under the License.\n",
      "\n",
      "CLASSES\n",
      "    PrestoClient\n",
      "    \n",
      "    class PrestoClient\n",
      "     |  PrestoClient\n",
      "     |  ============\n",
      "     |  \n",
      "     |  PrestoClient implements a Python class to communicate with a Presto server.\n",
      "     |  Presto (U{http://prestodb.io/}) is a fast query engine developed\n",
      "     |  by Facebook that runs distributed queries against a (cluster of)\n",
      "     |  Hadoop HDFS servers (U{http://hadoop.apache.org/}).\n",
      "     |  Presto uses SQL as its query language. Presto is an alternative for\n",
      "     |  Hadoop-Hive.\n",
      "     |  \n",
      "     |  PrestoClient was developed and tested on Presto versions 0.52 to 0.68. Python version used is 2.7.6\n",
      "     |  \n",
      "     |  You can use this class with this sample code:\n",
      "     |  \n",
      "     |  >>> import prestoclient\n",
      "     |  >>>\n",
      "     |  >>> sql = \"SHOW TABLES\"\n",
      "     |  >>>\n",
      "     |  >>> # Replace localhost with ip address or dns name of the Presto server running the discovery service\n",
      "     |  >>> presto = prestoclient.PrestoClient(\"localhost\")\n",
      "     |  >>>\n",
      "     |  >>> if not presto.runquery(sql):\n",
      "     |  >>>     print \"Error: \", presto.getlasterrormessage()\n",
      "     |  >>> else:\n",
      "     |  >>>     # We're done now, so let's show the results\n",
      "     |  >>>     print \"Columns: \", presto.getcolumns()\n",
      "     |  >>>     if presto.getdata(): print \"Datalength: \", presto.getnumberofdatarows(), \" Data: \", presto.getdata()\n",
      "     |  \n",
      "     |  Presto client protocol\n",
      "     |  ======================\n",
      "     |  \n",
      "     |  The communication protocol used between Presto clients and servers is not documented yet. It seems to\n",
      "     |  be as follows:\n",
      "     |  \n",
      "     |  Client sends http POST request to the Presto server, page: \"/v1/statement\". Header information should\n",
      "     |  include: X-Presto-Catalog, X-Presto-Source, X-Presto-Schema, User-Agent, X-Presto-User. The body of the\n",
      "     |  request should contain the sql statement. The server responds by returning JSON data (http status-code 200).\n",
      "     |  This reply may contain up to 3 uri's. One giving the link to get more information about the query execution\n",
      "     |  ('infoUri'), another giving the link to fetch the next packet of data ('nextUri') and one with the uri to\n",
      "     |  cancel the query ('partialCancelUri').\n",
      "     |  \n",
      "     |  The client should send GET requests to the server (Header: X-Presto-Source, User-Agent, X-Presto-User.\n",
      "     |  Body: empty) following the 'nextUri' link from the previous response until the servers response does not\n",
      "     |  contain an 'nextUri' link anymore. When there is no 'nextUri' the query is finished. If the last response\n",
      "     |  from the server included an error section ('error') the query failed, otherwise the query succeeded. If\n",
      "     |  the http status of the server response is anything other than 200 with Content-Type application/json, the\n",
      "     |  query should also be considered failed. A 503 http response means that the server is (too) busy. Retry the\n",
      "     |  request after waiting at least 50ms.\n",
      "     |  The server response may contain a 'state' variable. This is for informational purposes only (may be subject\n",
      "     |  to change in future implementations).\n",
      "     |  Each response by the server to a 'nextUri' may contain information about the columns returned by the query\n",
      "     |  and all- or part of the querydata. If the response contains a data section the columns section will always\n",
      "     |  be available.\n",
      "     |  \n",
      "     |  The server reponse may contain a variable with the uri to cancel the query ('partialCancelUri'). The client\n",
      "     |  may issue a DELETE request to the server using this link. Response http status-code is 204.\n",
      "     |  \n",
      "     |  The Presto server will retain information about finished queries for 15 minutes. When a client does not\n",
      "     |  respond to the server (by following the 'nextUri' links) the server will cancel these 'dead' queries after\n",
      "     |  5 minutes. These timeouts are hardcoded in the Presto server source code.\n",
      "     |  \n",
      "     |  Todo\n",
      "     |  ====\n",
      "     |  \n",
      "     |      - Enable PrestoClient to handle multiple running queries simultaneously. Currently you can only run\n",
      "     |      one query per instance of this class.\n",
      "     |  \n",
      "     |      - Add support for https connections\n",
      "     |  \n",
      "     |      - Add support for insert/update queries (if and when Presto server supports this).\n",
      "     |  \n",
      "     |  Availability\n",
      "     |  ============\n",
      "     |  \n",
      "     |  PrestoClient source code is available through: U{https://github.com/easydatawarehousing/prestoclient}\n",
      "     |  \n",
      "     |  Additional information may be found here: U{http://www.easydatawarehousing.com/tag/presto/}\n",
      "     |  \n",
      "     |  Methods defined here:\n",
      "     |  \n",
      "     |  __init__(self, in_server, in_port=8080, in_catalog='hive', in_user='', in_timezone='', in_language='')\n",
      "     |      Constructor of PrestoClient class.\n",
      "     |      \n",
      "     |      Arguments:\n",
      "     |      \n",
      "     |      in_server   -- IP Address or dns name of the Presto server running the discovery service\n",
      "     |      \n",
      "     |      in_port     -- TCP port of the Prestoserver running the discovery service (default 8080)\n",
      "     |      \n",
      "     |      in_catalog  -- Catalog name that the Prestoserver should use to query hdfs (default 'hive')\n",
      "     |      \n",
      "     |      in_user     -- Username to pass to the Prestoserver. If left blank the username from the OS is used\n",
      "     |      (default '')\n",
      "     |      \n",
      "     |      in_timezone -- Timezone to pass to the Prestoserver. Leave blank (=default) for servers default timezone.\n",
      "     |      (IANA timezone format)\n",
      "     |      \n",
      "     |      in_language -- Language to pass to the Prestoserver. Leave blank (=default) for the servers default language.\n",
      "     |      (ISO-639-1 code)\n",
      "     |  \n",
      "     |  cancelquery(self)\n",
      "     |      Inform Prestoclient to cancel the running query. When queryisrunning() is called\n",
      "     |      prestoclient will send a cancel query request to the Presto server.\n",
      "     |  \n",
      "     |  cleardata(self)\n",
      "     |      Empty the data buffer. You can use this function to implement your own 'streaming' data retrieval setup.\n",
      "     |  \n",
      "     |  getcolumns(self)\n",
      "     |      Return the column information of the queryresults. Nested list of datatype / fieldname.\n",
      "     |  \n",
      "     |  getdata(self)\n",
      "     |      Return the currently buffered data.\n",
      "     |  \n",
      "     |  getlasterrormessage(self)\n",
      "     |      Return error message of last executed request to the prestoserver or empty string if there is no error.\n",
      "     |  \n",
      "     |  getlastresponse(self)\n",
      "     |      Return response of last executed request to the prestoserver.\n",
      "     |  \n",
      "     |  getlastserverstate(self)\n",
      "     |      Return state of the request as reported by the Presto server.\n",
      "     |  \n",
      "     |  getnumberofdatarows(self)\n",
      "     |      Return the length of the currently buffered data in number of rows.\n",
      "     |  \n",
      "     |  getqueryinfo(self)\n",
      "     |      Requests query information from the Presto server and returns this as a dictonary. The Presto\n",
      "     |      server removes this information 15 minutes after finishing the query.\n",
      "     |  \n",
      "     |  getstatus(self)\n",
      "     |      Return status of the client. Note this is not the same as the state reported by the Presto server!\n",
      "     |  \n",
      "     |  getversion(self)\n",
      "     |      Return PrestoClient version number.\n",
      "     |  \n",
      "     |  queryisrunning(self)\n",
      "     |      Returns True if query is running.\n",
      "     |  \n",
      "     |  runquery(self, in_sql_statement, in_schema='default')\n",
      "     |      Execute a query. Currently, only one simultaneous query per instance of the PrestoClient class is allowed.\n",
      "     |      Starting a new query will discard any data previously retrieved ! Returns True if query succeeded.\n",
      "     |      \n",
      "     |      Arguments:\n",
      "     |      \n",
      "     |      in_sql_statement -- The query that should be executed by the Presto server\n",
      "     |      \n",
      "     |      in_schema        -- The HDFS schema that should be used (default 'default')\n",
      "     |  \n",
      "     |  startquery(self, in_sql_statement, in_schema='default')\n",
      "     |      Start a query. Currently, only one simultaneous query per instance of the PrestoClient class is allowed.\n",
      "     |      Starting a new query will discard any data previously retrieved !\n",
      "     |      \n",
      "     |      Arguments:\n",
      "     |      \n",
      "     |      in_sql_statement -- The query that should be executed by the Presto server\n",
      "     |      \n",
      "     |      in_schema        -- The HDFS schema that should be used (default 'default')\n",
      "     |  \n",
      "     |  waituntilfinished(self, in_verbose=False)\n",
      "     |      Returns when query has finished. Override this function to implement your own data retrieval setup.\n",
      "     |      For instance to run this function in a separate thread so other threads may request a cancellation.\n",
      "     |      \n",
      "     |      Arguments:\n",
      "     |      \n",
      "     |      in_verbose -- If True print some simple progress messages (default False)\n",
      "\n",
      "FUNCTIONS\n",
      "    sleep(...)\n",
      "        sleep(seconds)\n",
      "        \n",
      "        Delay execution for a given number of seconds.  The argument may be\n",
      "        a floating point number for subsecond precision.\n",
      "\n",
      "\n"
     ]
    }
   ],
   "source": [
    "help(prestoclient)"
   ]
  },
  {
   "cell_type": "code",
   "execution_count": 4,
   "metadata": {},
   "outputs": [],
   "source": [
    "presto = prestoclient.PrestoClient(in_server='localhost',in_port=8080,in_catalog='hive')"
   ]
  },
  {
   "cell_type": "code",
   "execution_count": 5,
   "metadata": {},
   "outputs": [],
   "source": [
    "sql = \"SHOW TABLES\""
   ]
  },
  {
   "cell_type": "code",
   "execution_count": 7,
   "metadata": {},
   "outputs": [
    {
     "name": "stdout",
     "output_type": "stream",
     "text": [
      "Columns:  [{u'typeSignature': {u'arguments': [{u'kind': u'LONG_LITERAL', u'value': 2147483647}], u'typeArguments': [], u'rawType': u'varchar', u'literalArguments': []}, u'type': u'varchar', u'name': u'Table'}]\n",
      "Datalength:  1  Data:  <bound method PrestoClient.getdata of <prestoclient.PrestoClient instance at 0x105ff3d88>>\n"
     ]
    }
   ],
   "source": [
    "if not presto.runquery(sql):\n",
    "    print \"Error: \", presto.getlasterrormessage()\n",
    "else:\n",
    " # We're done now, so let's show the results\n",
    "    print \"Columns: \", presto.getcolumns()\n",
    "    if presto.getdata(): print \"Datalength: \", presto.getnumberofdatarows(), \" Data: \", presto.getdata"
   ]
  },
  {
   "cell_type": "code",
   "execution_count": 10,
   "metadata": {},
   "outputs": [
    {
     "data": {
      "text/plain": [
       "[[u'myfirst']]"
      ]
     },
     "execution_count": 10,
     "metadata": {},
     "output_type": "execute_result"
    }
   ],
   "source": [
    "presto.runquery(sql,in_schema='test')\n",
    "presto.getdata()"
   ]
  },
  {
   "cell_type": "code",
   "execution_count": 11,
   "metadata": {},
   "outputs": [
    {
     "data": {
      "text/plain": [
       "[[u'FIRST', u'yyy'],\n",
       " [u'FIRST', u'xx'],\n",
       " [u'third', u'TTTT'],\n",
       " [u'second', u'zzzz']]"
      ]
     },
     "execution_count": 11,
     "metadata": {},
     "output_type": "execute_result"
    }
   ],
   "source": [
    "presto.runquery('select * from test.myfirst')\n",
    "presto.getdata()"
   ]
  },
  {
   "cell_type": "code",
   "execution_count": 14,
   "metadata": {},
   "outputs": [
    {
     "data": {
      "text/plain": [
       "'SUCCEEDED'"
      ]
     },
     "execution_count": 14,
     "metadata": {},
     "output_type": "execute_result"
    }
   ],
   "source": [
    "presto.runquery(\"INSERT INTO test.myfirst VALUES ('fifth','zzzz')\")\n",
    "presto.getstatus()"
   ]
  },
  {
   "cell_type": "code",
   "execution_count": 15,
   "metadata": {},
   "outputs": [
    {
     "data": {
      "text/plain": [
       "'FAILED'"
      ]
     },
     "execution_count": 15,
     "metadata": {},
     "output_type": "execute_result"
    }
   ],
   "source": [
    "presto.runquery(\"drop table test.myfirst\")\n",
    "presto.getstatus()"
   ]
  },
  {
   "cell_type": "markdown",
   "metadata": {},
   "source": [
    "# exercise"
   ]
  },
  {
   "cell_type": "code",
   "execution_count": 16,
   "metadata": {},
   "outputs": [],
   "source": [
    "# create table (no external). External tables are only create in hive.\n",
    "# insert rows\n",
    "# drop table\n"
   ]
  },
  {
   "cell_type": "code",
   "execution_count": 20,
   "metadata": {},
   "outputs": [],
   "source": [
    "presto = prestoclient.PrestoClient(in_server='localhost',in_port=8080,in_catalog='hive')"
   ]
  },
  {
   "cell_type": "code",
   "execution_count": 34,
   "metadata": {},
   "outputs": [],
   "source": [
    "create = \"\"\"\n",
    "CREATE TABLE test.mysecond (\n",
    "  farmId varchar,\n",
    "  fieldId varchar\n",
    "\n",
    ")\n",
    "WITH ( format = 'PARQUET'\n",
    ")\n",
    "\"\"\"\n",
    "insert = \"\"\"\n",
    "    INSERT INTO test.mysecond VALUES ('first','first')\n",
    "\"\"\"\n",
    "\n",
    "delete = \"\"\"\n",
    "    drop test.mysecond\n",
    "\"\"\"\n"
   ]
  },
  {
   "cell_type": "code",
   "execution_count": 35,
   "metadata": {},
   "outputs": [
    {
     "data": {
      "text/plain": [
       "'FAILED'"
      ]
     },
     "execution_count": 35,
     "metadata": {},
     "output_type": "execute_result"
    }
   ],
   "source": [
    "presto.runquery(delete)\n",
    "presto.getstatus()"
   ]
  },
  {
   "cell_type": "code",
   "execution_count": null,
   "metadata": {},
   "outputs": [],
   "source": []
  }
 ],
 "metadata": {
  "kernelspec": {
   "display_name": "Python 2",
   "language": "python",
   "name": "python2"
  },
  "language_info": {
   "codemirror_mode": {
    "name": "ipython",
    "version": 2
   },
   "file_extension": ".py",
   "mimetype": "text/x-python",
   "name": "python",
   "nbconvert_exporter": "python",
   "pygments_lexer": "ipython2",
   "version": "2.7.10"
  }
 },
 "nbformat": 4,
 "nbformat_minor": 2
}
