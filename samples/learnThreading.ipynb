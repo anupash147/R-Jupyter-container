{
 "cells": [
  {
   "cell_type": "code",
   "execution_count": null,
   "metadata": {},
   "outputs": [],
   "source": [
    "#!/usr/bin/python\n",
    "\n",
    "import thread\n",
    "import time\n",
    "\n",
    "# Define a function for the thread\n",
    "def print_time( threadName, delay):\n",
    "    count = 0\n",
    "    while count < 5:\n",
    "        time.sleep(delay)\n",
    "        count += 1\n",
    "        print \"%s: %s\" % ( threadName, time.ctime(time.time()) )\n",
    "\n",
    "# Create two threads as follows\n",
    "try:\n",
    "    thread.start_new_thread( print_time, (\"Thread-1\", 2, ) )\n",
    "    thread.start_new_thread( print_time, (\"Thread-2\", 4, ) )\n",
    "    thread.start_new_thread( print_time, (\"Thread-3\", 3, ) )\n",
    "    thread.start_new_thread( print_time, (\"Thread-4\", 5, ) )\n",
    "    thread.start_new_thread( print_time, (\"Thread-5\", 1, ) )\n",
    "except:\n",
    "    print \"Error: unable to start thread\"\n",
    "\n",
    "while 1:\n",
    "    pass"
   ]
  },
  {
   "cell_type": "code",
   "execution_count": null,
   "metadata": {},
   "outputs": [],
   "source": [
    "import threading\n",
    "\n",
    "def worker(num):\n",
    "    \"\"\"thread worker function\"\"\"\n",
    "    print 'Worker: %s' % num\n",
    "    return\n",
    "\n",
    "threads = []\n",
    "for i in range(15):\n",
    "    t = threading.Thread(target=worker, args=(i,))\n",
    "    threads.append(t)\n"
   ]
  },
  {
   "cell_type": "code",
   "execution_count": null,
   "metadata": {},
   "outputs": [],
   "source": [
    "#threads = [threading.Thread((target=worker, args=(i,)) for i in range(5))]\n",
    "for thread in threads:\n",
    "    thread.start()"
   ]
  },
  {
   "cell_type": "code",
   "execution_count": null,
   "metadata": {},
   "outputs": [],
   "source": [
    "from multiprocessing import Process\n",
    "import os\n",
    "\n",
    "def info(title):\n",
    "    print(title)\n",
    "    print('module name:', __name__)\n",
    "    print('parent process:', os.getppid())\n",
    "    print('process id:', os.getpid())\n",
    "\n",
    "def f(name):\n",
    "    #info('function f')\n",
    "    print('hello', name)\n",
    "\n",
    "if __name__ == '__main__':\n",
    "    info('main line')\n",
    "    p = Process(target=f, args=('bob',))\n",
    "    p.start()\n",
    "    p.join()"
   ]
  },
  {
   "cell_type": "code",
   "execution_count": null,
   "metadata": {},
   "outputs": [],
   "source": [
    "from joblib import Parallel, delayed\n",
    "import multiprocessing\n",
    "num_cores = multiprocessing.cpu_count()    \n",
    "# what are your inputs, and what operation do you want to \n",
    "# perform on each input. For example...\n",
    "inputs = range(10) \n",
    "def processInput(i):\n",
    "    return i * i\n",
    "\n",
    "\n",
    "    \n",
    "Parallel(n_jobs=num_cores,verbose=5)(delayed(processInput)\n",
    "                                     (i) for i in inputs)"
   ]
  },
  {
   "cell_type": "code",
   "execution_count": null,
   "metadata": {},
   "outputs": [],
   "source": [
    "import multiprocessing as mp\n",
    "\n",
    "def foo(q):\n",
    "    q.put('hello')\n",
    "\n",
    "if __name__ == '__main__':\n",
    "    #mp.set_start_method('spawn')\n",
    "    q = mp.Queue()\n",
    "    p = mp.Process(target=foo, args=(q,))\n",
    "    p.start()\n",
    "    print(q.get())\n",
    "    p.join()"
   ]
  },
  {
   "cell_type": "code",
   "execution_count": null,
   "metadata": {},
   "outputs": [],
   "source": [
    "from multiprocessing import Process, Pool\n",
    "import time\n",
    "import urllib2\n",
    "\n",
    "def millis():\n",
    "    return int(round(time.time() * 1000))\n",
    "\n",
    "def http_get(url):\n",
    "    start_time = millis()\n",
    "    result = {\"url\": url, \"data\": urllib2.urlopen(url, timeout=5).read()[:100]}\n",
    "    print url + \" took \" + str(millis() - start_time) + \" ms\"\n",
    "    return result\n",
    "  \n",
    "urls = ['http://www.google.com/', 'https://foursquare.com/', 'http://www.yahoo.com/', 'http://www.bing.com/', \"https://www.yelp.com/\"]\n",
    "\n",
    "pool = Pool(processes=5)\n",
    "\n",
    "start_time = millis()\n",
    "results = pool.map(http_get, urls)\n",
    "\n",
    "print \"\\nTotal took \" + str(millis() - start_time) + \" ms\\n\"\n",
    "\n",
    "for result in results:\n",
    "    print result"
   ]
  },
  {
   "cell_type": "code",
   "execution_count": 4,
   "metadata": {},
   "outputs": [
    {
     "name": "stdout",
     "output_type": "stream",
     "text": [
      "put 0 size now 1\n",
      "put 1 size now 1\n",
      "1 got 0 size now 0\n",
      "0 got 1 size now 0\n",
      "put 2 size now 1\n",
      "put 3 size now 1\n",
      "1 got 3 size now 0\n",
      "0 got 4 size now 0\n",
      "put 4 size now 1\n",
      "2 got 2 size now 0\n",
      "put 5 size now 1\n",
      "1 got 5 size now 0\n",
      "put 6 size now 1\n",
      "put 7 size now 1\n",
      "1 got 7 size now 0\n",
      "put 8 size now 1\n",
      "2 got 8 size now 0\n",
      "0 got 6 size now 0\n",
      "put 9 size now 1\n",
      "1 got 9 size now 0\n"
     ]
    }
   ],
   "source": [
    "from multiprocessing import Manager, Process, Pool,Queue\n",
    "from Queue import Empty\n",
    "\n",
    "def writer(queue):\n",
    "   for i in range(10):\n",
    "     queue.put(i)\n",
    "     print 'put %i size now %i'%(i, queue.qsize())\n",
    "\n",
    "def reader(id, queue):\n",
    "   for i in range(10):\n",
    "     try:\n",
    "       cnt = queue.get(1,1)\n",
    "       print '%i got %i size now %i'%(id, cnt, queue.qsize())\n",
    "     except Empty:\n",
    "       pass\n",
    "\n",
    "class Managerss:\n",
    "   def __init__(self):\n",
    "     self.queue= Queue()\n",
    "     self.NUMBER_OF_PROCESSES = 3\n",
    "\n",
    "   def start(self):\n",
    "     self.p = Process(target=writer, args=(self.queue,))\n",
    "     self.p.start()\n",
    "     self.workers = [Process(target=reader, args=(i, self.queue,))\n",
    "                        for i in xrange(self.NUMBER_OF_PROCESSES)]\n",
    "     for w in self.workers:\n",
    "       w.start()\n",
    "\n",
    "   def join(self):\n",
    "     self.p.join()\n",
    "     for w in self.workers:\n",
    "       w.join()\n",
    "\n",
    "if __name__ == '__main__':\n",
    "    m= Managerss()\n",
    "    m.start()\n",
    "    m.join()"
   ]
  },
  {
   "cell_type": "code",
   "execution_count": null,
   "metadata": {
    "collapsed": true
   },
   "outputs": [],
   "source": []
  }
 ],
 "metadata": {
  "kernelspec": {
   "display_name": "Python 2",
   "language": "python",
   "name": "python2"
  },
  "language_info": {
   "codemirror_mode": {
    "name": "ipython",
    "version": 2
   },
   "file_extension": ".py",
   "mimetype": "text/x-python",
   "name": "python",
   "nbconvert_exporter": "python",
   "pygments_lexer": "ipython2",
   "version": "2.7.11"
  }
 },
 "nbformat": 4,
 "nbformat_minor": 2
}
